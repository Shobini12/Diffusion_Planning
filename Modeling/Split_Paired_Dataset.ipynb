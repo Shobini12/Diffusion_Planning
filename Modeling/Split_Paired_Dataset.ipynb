{
  "nbformat": 4,
  "nbformat_minor": 0,
  "metadata": {
    "colab": {
      "provenance": []
    },
    "kernelspec": {
      "name": "python3",
      "display_name": "Python 3"
    },
    "language_info": {
      "name": "python"
    }
  },
  "cells": [
    {
      "cell_type": "code",
      "execution_count": null,
      "metadata": {
        "id": "oB4CqFyjhLy1"
      },
      "outputs": [],
      "source": [
        "!git clone https://github.com/jasonjabbour/Diffusion_Planning.git"
      ]
    },
    {
      "cell_type": "code",
      "source": [
        "%cd Diffusion_Planning"
      ],
      "metadata": {
        "id": "um4nbHlchRmH"
      },
      "execution_count": null,
      "outputs": []
    },
    {
      "cell_type": "code",
      "source": [
        "!ls"
      ],
      "metadata": {
        "id": "iep4i7_ZhVYi"
      },
      "execution_count": null,
      "outputs": []
    },
    {
      "cell_type": "code",
      "source": [
        "import pandas as pd"
      ],
      "metadata": {
        "id": "acd0OF6OhVvn"
      },
      "execution_count": null,
      "outputs": []
    },
    {
      "cell_type": "code",
      "source": [
        "tempdf = pd.read_csv(\"PathPlanning/path_data/path_data.csv\")"
      ],
      "metadata": {
        "id": "OjltbmeIhYd3"
      },
      "execution_count": null,
      "outputs": []
    },
    {
      "cell_type": "code",
      "source": [
        "tempdf.head(10)"
      ],
      "metadata": {
        "id": "pzKxMyr-hZgq"
      },
      "execution_count": null,
      "outputs": []
    },
    {
      "cell_type": "code",
      "source": [
        "tempdf['algo'].unique()"
      ],
      "metadata": {
        "id": "seLGY-aOhaqR"
      },
      "execution_count": null,
      "outputs": []
    },
    {
      "cell_type": "code",
      "source": [
        "# Splitting the DataFrame\n",
        "df_RRT = tempdf[tempdf['algo'] == 'RRT']\n",
        "df_A_star = tempdf[tempdf['algo'] == 'A*']\n",
        "\n",
        "# Saving to CSV files\n",
        "df_RRT.to_csv('path_data_rrt.csv', index=False)\n",
        "df_A_star.to_csv('path_data_astar.csv', index=False)"
      ],
      "metadata": {
        "id": "N4D_yAoUhdD8"
      },
      "execution_count": null,
      "outputs": []
    }
  ]
}